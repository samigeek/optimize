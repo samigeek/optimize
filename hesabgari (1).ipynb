{
  "nbformat": 4,
  "nbformat_minor": 0,
  "metadata": {
    "colab": {
      "provenance": []
    },
    "kernelspec": {
      "name": "python3",
      "display_name": "Python 3"
    },
    "language_info": {
      "name": "python"
    }
  },
  "cells": [
    {
      "cell_type": "code",
      "execution_count": null,
      "metadata": {
        "id": "jUwGygluuKW6"
      },
      "outputs": [],
      "source": [
        "import numpy as np\n",
        "import random\n",
        "import math\n",
        "\n",
        "# Number of cities\n",
        "NUM_CITIES = 50\n",
        "\n",
        "# Generate random city coordinates\n",
        "random.seed(0)  # For reproducibility\n",
        "cities = np.random.rand(NUM_CITIES, 2)  # Random coordinates in [0, 1]\n"
      ]
    },
    {
      "cell_type": "code",
      "source": [
        "def distance(city1, city2):\n",
        "    return math.sqrt((city1[0] - city2[0])**2 + (city1[1] - city2[1])**2)\n",
        "\n",
        "# Compute distances between all cities\n",
        "distances = np.zeros((NUM_CITIES, NUM_CITIES))\n",
        "for i in range(NUM_CITIES):\n",
        "    for j in range(NUM_CITIES):\n",
        "        distances[i][j] = distance(cities[i], cities[j])\n",
        "\n",
        "# Initialize pheromone levels on edges\n",
        "pheromones = np.ones((NUM_CITIES, NUM_CITIES))"
      ],
      "metadata": {
        "id": "xDsrLS4zuN3M"
      },
      "execution_count": null,
      "outputs": []
    },
    {
      "cell_type": "code",
      "source": [
        "# ACO Parameters\n",
        "NUM_ANTS = 20\n",
        "MAX_ITER = 100\n",
        "RHO = 0.1    # Evaporation rate\n",
        "Q = 100      # Pheromone deposit factor\n",
        "\n",
        "# Function to perform Ant Colony Optimization\n",
        "def ant_colony_optimization(distances, pheromones, alpha, beta):\n",
        "    num_cities = len(distances)\n",
        "    best_tour = None\n",
        "    best_length = float('inf')\n",
        "\n",
        "    for _ in range(MAX_ITER):\n",
        "        ant_tours = []\n",
        "        tour_lengths = []\n",
        "\n",
        "        # Construct solutions for each ant\n",
        "        for ant in range(NUM_ANTS):\n",
        "            visited = np.zeros(num_cities, dtype=bool)\n",
        "            tour = []\n",
        "            current_city = random.randint(0, num_cities - 1)\n",
        "            tour.append(current_city)\n",
        "            visited[current_city] = True\n",
        "\n",
        "            # Build the tour for the current ant\n",
        "            for _ in range(num_cities - 1):\n",
        "                probabilities = np.zeros(num_cities)\n",
        "\n",
        "                # Calculate probabilities for the next city\n",
        "                for next_city in range(num_cities):\n",
        "                    if not visited[next_city]:\n",
        "                        pheromone = pheromones[current_city][next_city]\n",
        "                        heuristic = 1.0 / distances[current_city][next_city]\n",
        "                        probabilities[next_city] = (pheromone ** alpha) * (heuristic ** beta)\n",
        "\n",
        "                probabilities = probabilities / probabilities.sum()\n",
        "                next_city = np.random.choice(range(num_cities), p=probabilities)\n",
        "                tour.append(next_city)\n",
        "                visited[next_city] = True\n",
        "                current_city = next_city\n",
        "\n",
        "            ant_tours.append(tour)\n",
        "            tour_length = sum(distances[tour[i]][tour[i + 1]] for i in range(num_cities - 1)) + distances[tour[-1]][tour[0]]\n",
        "            tour_lengths.append(tour_length)\n",
        "\n",
        "            # Update pheromone levels\n",
        "            for i in range(num_cities):\n",
        "                pheromones[tour[i]][tour[(i + 1) % num_cities]] += Q / tour_length\n",
        "\n",
        "            # Update best tour\n",
        "            if tour_length < best_length:\n",
        "                best_tour = tour\n",
        "                best_length = tour_length\n",
        "\n",
        "        # Evaporate pheromone\n",
        "        pheromones *= (1 - RHO)\n",
        "\n",
        "    return best_length\n"
      ],
      "metadata": {
        "id": "f7yhIM4T7JQm"
      },
      "execution_count": null,
      "outputs": []
    },
    {
      "cell_type": "code",
      "source": [
        "# PSO Parameters\n",
        "NUM_PARTICLES = 10\n",
        "MAX_ITER_PSO = 10\n",
        "W = 0.7\n",
        "C1 = 2.0\n",
        "C2 = 2.0\n",
        "\n",
        "# Function to sample a subset of the cities\n",
        "def sample_subset(distances, subset_size=10):\n",
        "    indices = np.random.choice(range(len(distances)), subset_size, replace=False)\n",
        "    subset_distances = distances[np.ix_(indices, indices)]\n",
        "    return subset_distances\n",
        "\n",
        "# Objective function for PSO (Minimize tour length on subset)\n",
        "def objective_function(alpha, beta):\n",
        "    subset_distances = sample_subset(distances, subset_size=10)\n",
        "    subset_pheromones = np.ones(subset_distances.shape)\n",
        "    return ant_colony_optimization(subset_distances, subset_pheromones, alpha, beta)\n",
        "\n",
        "# PSO initialization\n",
        "particles = np.random.rand(NUM_PARTICLES, 2)  # Random initialization of particles\n",
        "velocities = np.zeros((NUM_PARTICLES, 2))\n",
        "pbest_positions = particles.copy()\n",
        "pbest_values = np.full(NUM_PARTICLES, float('inf'))\n",
        "gbest_position = np.zeros(2)\n",
        "gbest_value = float('inf')\n",
        "\n",
        "# PSO main loop\n",
        "for _ in range(MAX_ITER_PSO):\n",
        "    for i in range(NUM_PARTICLES):\n",
        "        alpha, beta = particles[i]\n",
        "        fitness = objective_function(alpha, beta)\n",
        "\n",
        "        # Update personal best\n",
        "        if fitness < pbest_values[i]:\n",
        "            pbest_values[i] = fitness\n",
        "            pbest_positions[i] = particles[i]\n",
        "\n",
        "        # Update global best\n",
        "        if fitness < gbest_value:\n",
        "            gbest_value = fitness\n",
        "            gbest_position = particles[i]\n",
        "\n",
        "        # Update velocities and positions\n",
        "        velocities[i] = (W * velocities[i] +\n",
        "                         C1 * random.random() * (pbest_positions[i] - particles[i]) +\n",
        "                         C2 * random.random() * (gbest_position - particles[i]))\n",
        "        particles[i] += velocities[i]\n",
        "\n",
        "# Extract best parameters from PSO\n",
        "best_alpha, best_beta = gbest_position\n",
        "\n",
        "# Validate best parameters on the full dataset\n",
        "best_length = ant_colony_optimization(distances, pheromones, best_alpha, best_beta)\n",
        "print(f\"Best parameters (alpha, beta): ({best_alpha}, {best_beta})\")\n",
        "print(f\"Length of best tour found: {best_length}\")\n"
      ],
      "metadata": {
        "colab": {
          "base_uri": "https://localhost:8080/"
        },
        "id": "au30QbbAuOEu",
        "outputId": "f2333e42-b27e-4541-8605-92eb8ea66fd1"
      },
      "execution_count": null,
      "outputs": [
        {
          "output_type": "stream",
          "name": "stdout",
          "text": [
            "Best parameters (alpha, beta): (0.9688413428396695, 1.778582253879069)\n",
            "Length of best tour found: 5.490440191467256\n"
          ]
        }
      ]
    }
  ]
}